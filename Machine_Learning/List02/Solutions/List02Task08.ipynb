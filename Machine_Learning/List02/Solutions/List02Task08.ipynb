{
 "cells": [
  {
   "cell_type": "markdown",
   "metadata": {},
   "source": [
    "# Task 8 of Second Machine Learning Homework\n",
    "## Effect of Model Complexity on Overfitting\n",
    "\n",
    "**Dataset**: Use the following code to generate a dataset of 200 samples:\n",
    "\n",
    "```py\n",
    "np.random.seed(4)\n",
    "X = np.random.uniform(-5, 5, 200)\n",
    "epsilon = np.random.normal(0, 0.5, 200)\n",
    "y = 2 * X**2 + X + epsilon\n",
    "```\n",
    "\n",
    "**Task**: Fit polynomial regression models of degrees 5 and 15 to the dataset. Plot the training and validation errors for both models.\n",
    "\n"
   ]
  },
  {
   "cell_type": "markdown",
   "metadata": {},
   "source": [
    "### Generating dataset"
   ]
  },
  {
   "cell_type": "code",
   "execution_count": 7,
   "metadata": {},
   "outputs": [],
   "source": [
    "import numpy as np\n",
    "from sklearn.model_selection import train_test_split\n",
    "\n",
    "# Dataset generation\n",
    "np.random.seed(4)\n",
    "X = np.random.uniform(-5, 5, 200)\n",
    "epsilon = np.random.normal(0, 0.5, 200)\n",
    "y = 2 * X**2 + X + epsilon\n",
    "\n",
    "X_train, X_val, y_train, y_val = train_test_split(X, y, test_size=0.3, random_state=42)"
   ]
  },
  {
   "cell_type": "markdown",
   "metadata": {},
   "source": [
    "### Polymonial regression function from task 5"
   ]
  },
  {
   "cell_type": "code",
   "execution_count": 14,
   "metadata": {},
   "outputs": [],
   "source": [
    "import torch\n",
    "import matplotlib.pyplot as plt\n",
    "\n",
    "def train_polynomial_regression(X, y, degree=3, num_epochs=1000, lr=0.1, regularization_strength=0.0):\n",
    "    class PolynomialRegressionModel(torch.nn.Module):\n",
    "        def __init__(self, input_dim):\n",
    "            super(PolynomialRegressionModel, self).__init__()\n",
    "            self.poly = torch.nn.Linear(input_dim, 1)\n",
    "\n",
    "        def forward(self, x):\n",
    "            return self.poly(x)\n",
    "        \n",
    "    X_min, X_max = X.min(), X.max()\n",
    "    X_scaled = (X - X_min) / (X_max - X_min)\n",
    "    \n",
    "    X_tensor = torch.tensor(X_scaled, dtype=torch.float32).view(-1, 1)\n",
    "    y_tensor = torch.tensor(y, dtype=torch.float32).view(-1, 1)\n",
    "    \n",
    "    X_poly = torch.cat([X_tensor**i for i in range(1, degree + 1)], dim=1)\n",
    "\n",
    "    model = PolynomialRegressionModel(degree)\n",
    "    \n",
    "    criterion = torch.nn.MSELoss()\n",
    "    optimizer = torch.optim.SGD(model.parameters(), lr=lr)\n",
    "    \n",
    "    min_loss = float('inf')\n",
    "\n",
    "    # Train\n",
    "    for epoch in range(num_epochs):\n",
    "        y_pred = model(X_poly)\n",
    "        loss = criterion(y_pred, y_tensor)\n",
    "\n",
    "        # Apply L2 regularization if regularization_strength > 0\n",
    "        if regularization_strength > 0:\n",
    "            reg_loss = sum(param.pow(2).sum() for param in model.parameters())\n",
    "            loss += regularization_strength * reg_loss\n",
    "\n",
    "        optimizer.zero_grad()\n",
    "        loss.backward()\n",
    "        optimizer.step()\n",
    "\n",
    "        if loss.item() < min_loss:\n",
    "            min_loss = loss.item()\n",
    "\n",
    "        # Print the loss every 1000 epochs\n",
    "        if (epoch + 1) % 1000 == 0:\n",
    "            print(f'Epoch [{epoch + 1}/{num_epochs}], Loss: {loss.item():.4f}')\n",
    "\n",
    "    return model, X_min, X_max, min_loss"
   ]
  },
  {
   "cell_type": "markdown",
   "metadata": {},
   "source": [
    "### Train models and plot results"
   ]
  },
  {
   "cell_type": "code",
   "execution_count": 18,
   "metadata": {},
   "outputs": [
    {
     "name": "stdout",
     "output_type": "stream",
     "text": [
      "Epoch [1000/10000], Loss: 87.7694\n",
      "Epoch [2000/10000], Loss: 56.1366\n",
      "Epoch [3000/10000], Loss: 39.3456\n",
      "Epoch [4000/10000], Loss: 30.3259\n",
      "Epoch [5000/10000], Loss: 25.3781\n",
      "Epoch [6000/10000], Loss: 22.5664\n",
      "Epoch [7000/10000], Loss: 20.8778\n",
      "Epoch [8000/10000], Loss: 19.7820\n",
      "Epoch [9000/10000], Loss: 19.0015\n",
      "Epoch [10000/10000], Loss: 18.3909\n",
      "Epoch [1000/10000], Loss: 72.0028\n",
      "Epoch [2000/10000], Loss: 56.8219\n",
      "Epoch [3000/10000], Loss: 46.4809\n",
      "Epoch [4000/10000], Loss: 38.5427\n",
      "Epoch [5000/10000], Loss: 32.3629\n",
      "Epoch [6000/10000], Loss: 27.5364\n",
      "Epoch [7000/10000], Loss: 23.7573\n",
      "Epoch [8000/10000], Loss: 20.7891\n",
      "Epoch [9000/10000], Loss: 18.4491\n",
      "Epoch [10000/10000], Loss: 16.5959\n"
     ]
    },
    {
     "data": {
      "image/png": "[encoded data removed]",
      "text/plain": [
       "<Figure size 800x600 with 1 Axes>"
      ]
     },
     "metadata": {},
     "output_type": "display_data"
    }
   ],
   "source": [
    "import matplotlib.pyplot as plt\n",
    "\n",
    "# Training and validation function\n",
    "def calculate_errors(X, y, model, degree, X_min, X_max):\n",
    "    X_scaled = (X - X_min) / (X_max - X_min)\n",
    "    X_tensor = torch.tensor(X_scaled, dtype=torch.float32).view(-1, 1)\n",
    "    y_tensor = torch.tensor(y, dtype=torch.float32).view(-1, 1)\n",
    "    \n",
    "    X_poly = torch.cat([X_tensor**i for i in range(1, degree + 1)], dim=1)\n",
    "    y_pred = model(X_poly).detach().numpy()\n",
    "    mse = np.mean((y_pred - y_tensor.numpy())**2)\n",
    "    return mse\n",
    "\n",
    "# Train models and collect errors\n",
    "degrees = [5, 15]\n",
    "results = {}\n",
    "for degree in degrees:\n",
    "    model, X_min, X_max, _ = train_polynomial_regression(X_train, y_train, degree=degree, num_epochs=10000, lr=0.01, regularization_strength=0)\n",
    "    train_error = calculate_errors(X_train, y_train, model, degree, X_min, X_max)\n",
    "    val_error = calculate_errors(X_val, y_val, model, degree, X_min, X_max)\n",
    "    results[degree] = (train_error, val_error)\n",
    "\n",
    "# Plot training and validation errors\n",
    "plt.figure(figsize=(8, 6))\n",
    "degrees = list(results.keys())\n",
    "train_errors = [results[d][0] for d in degrees]\n",
    "val_errors = [results[d][1] for d in degrees]\n",
    "\n",
    "plt.bar([str(d) + \" (Train)\" for d in degrees], train_errors, color='blue', alpha=0.6, label='Training Error')\n",
    "plt.bar([str(d) + \" (Val)\" for d in degrees], val_errors, color='orange', alpha=0.6, label='Validation Error')\n",
    "\n",
    "plt.ylabel('Mean Squared Error')\n",
    "plt.title('Effect of Model Complexity on Overfitting')\n",
    "plt.legend()\n",
    "plt.show()\n"
   ]
  },
  {
   "cell_type": "markdown",
   "metadata": {},
   "source": [
    "### Conclusions\n",
    "\n",
    "We can see that both models are prone to overfitting (better accuracy on training data).\n",
    "A model of higher complexity can overfit harder (interpolate data more accurately which\n",
    "results in more overfitting), but as we can see those differences are not that big in our scenario."
   ]
  }
 ],
 "metadata": {
  "kernelspec": {
   "display_name": "Python 3",
   "language": "python",
   "name": "python3"
  },
  "language_info": {
   "codemirror_mode": {
    "name": "ipython",
    "version": 3
   },
   "file_extension": ".py",
   "mimetype": "text/x-python",
   "name": "python",
   "nbconvert_exporter": "python",
   "pygments_lexer": "ipython3",
   "version": "3.10.10"
  }
 },
 "nbformat": 4,
 "nbformat_minor": 2
}
