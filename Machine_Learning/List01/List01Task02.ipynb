{
  "cells": [
    {
      "cell_type": "markdown",
      "metadata": {
        "id": "view-in-github",
        "colab_type": "text"
      },
      "source": [
        "<a href=\"https://colab.research.google.com/github/wojwozniak/university/blob/master/Machine_Learning/List01/List01Task02.ipynb\" target=\"_parent\"><img src=\"https://colab.research.google.com/assets/colab-badge.svg\" alt=\"Open In Colab\"/></a>"
      ]
    },
    {
      "cell_type": "markdown",
      "metadata": {
        "id": "BSGo9pO7xz1J"
      },
      "source": [
        "# Problem 1 of [first UWr_ML_2024 homework](https://github.com/wojwozniak/university/blob/master/Machine_Learning/List01/Homework_1.pdf)\n",
        "\n",
        "Let's start by importing required libraries and loading the dataset\n",
        "(dataset is availible by default in tensorflow library)"
      ]
    },
    {
      "cell_type": "code",
      "execution_count": null,
      "metadata": {
        "colab": {
          "base_uri": "https://localhost:8080/"
        },
        "id": "2ua8d-esxkLD",
        "outputId": "e573bbf6-bc04-4ac1-dc90-93dc4921ad5a"
      },
      "outputs": [
        {
          "name": "stdout",
          "output_type": "stream",
          "text": [
            "Downloading data from https://storage.googleapis.com/tensorflow/tf-keras-datasets/mnist.npz\n",
            "\u001b[1m11490434/11490434\u001b[0m \u001b[32m━━━━━━━━━━━━━━━━━━━━\u001b[0m\u001b[37m\u001b[0m \u001b[1m0s\u001b[0m 0us/step\n"
          ]
        }
      ],
      "source": [
        "import tensorflow as tf\n",
        "import numpy as np\n",
        "\n",
        "(x_train, y_train), (x_test, y_test) = tf.keras.datasets.mnist.load_data()\n",
        "\n",
        "# Test if we loaded data correctly\n",
        "# print(x_train.shape) # Expected value (60000, 28, 28)\n",
        "# print(x_test.shape) # Expected value (10000, 28, 28)"
      ]
    },
    {
      "cell_type": "markdown",
      "metadata": {
        "id": "YfgL-47GyMk5"
      },
      "source": [
        "## Step 1\n",
        "\n",
        "Normalize the pixel values (e.g., divide by 255 to scale between\n",
        "0 and 1) and select a random 10% subset of the dataset."
      ]
    },
    {
      "cell_type": "code",
      "execution_count": null,
      "metadata": {
        "id": "PRoDWeT5yROT"
      },
      "outputs": [],
      "source": [
        "# Step 1a: Normalize the pixel values\n",
        "x_train, x_test = x_train / 255.0, x_test / 255.0\n",
        "\n",
        "# Step 1b: Randomly select 10% of the data\n",
        "\n",
        "# I set the seed for reproducibility -> comment out for \"randomness\"\n",
        "np.random.seed(42)\n",
        "\n",
        "# We have 60000 elements in training data and 10000 in testing data,\n",
        "\n",
        "# Generate 6000 random indices, take those elements from the training data arrays\n",
        "train_random_indices = np.random.choice(x_train.shape[0], 6000, replace=False)\n",
        "x_train_10 = x_train[train_random_indices]\n",
        "y_train_10 = y_train[train_random_indices]\n",
        "\n",
        "# -,,- 1000 -,,- training -,,-\n",
        "test_random_indices = np.random.choice(x_test.shape[0], 1000, replace=False)\n",
        "x_test_10 = x_test[test_random_indices]\n",
        "y_test_10 = y_test[test_random_indices]\n",
        "\n",
        "# Test if we took data out correctly\n",
        "# print(x_train_10.shape) # Expected value (6000, 28, 28)\n",
        "# print(x_test_10.shape) # Expected value (1000, 28, 28)"
      ]
    },
    {
      "cell_type": "markdown",
      "metadata": {
        "id": "ZDRfIwVbyQ1Q"
      },
      "source": [
        "## Step 2 - KNN Classifier\n",
        "Use the KNeighborsClassifier from sklearn.neighbors. Iterate over different\n",
        "values of k, specifically k = 1, 2, . . . , 10."
      ]
    },
    {
      "cell_type": "code",
      "execution_count": null,
      "metadata": {
        "id": "3aHtx_X4yXOb"
      },
      "outputs": [],
      "source": [
        "from sklearn.neighbors import KNeighborsClassifier\n",
        "from sklearn.metrics import accuracy_score\n",
        "\n",
        "k_values = range(1, 11)\n",
        "\n",
        "accuracies = {}\n",
        "\n",
        "for k in k_values:\n",
        "    knn = KNeighborsClassifier(n_neighbors=k)\n",
        "    knn.fit(x_train_10.reshape(6000, -1), y_train_10)\n",
        "\n",
        "    y_pred = knn.predict(x_test_10.reshape(1000, -1))\n",
        "\n",
        "    accuracy = accuracy_score(y_test_10, y_pred)\n",
        "    accuracies[k] = accuracy\n",
        "\n",
        "    print(f\"Accuracy for k={k}: {accuracy:.6f}\")"
      ]
    },
    {
      "cell_type": "markdown",
      "metadata": {
        "id": "Hc2OX9edyc66"
      },
      "source": [
        "## Step 3 - Leave-One-Out Cross-Validation\n",
        "For each value of k, perform LOO CV:\n",
        "- Train the KNN model on n − 1 data points, where n is the total number of samples.\n",
        "- Test the model on the single data point left out.\n",
        "- Repeat this for all data points and compute the overall accuracy."
      ]
    },
    {
      "cell_type": "code",
      "execution_count": null,
      "metadata": {
        "id": "mPbyzCxByowo"
      },
      "outputs": [],
      "source": [
        "from sklearn.model_selection import LeaveOneOut\n",
        "import numpy as np\n",
        "from sklearn.neighbors import KNeighborsClassifier\n",
        "from sklearn.metrics import accuracy_score\n",
        "\n",
        "def leave_one_out_cv(x_data, y_data, k_values):\n",
        "    accuracies = {}\n",
        "\n",
        "    # Use built-in LOO iterator from sklearn library\n",
        "    loo = LeaveOneOut()\n",
        "\n",
        "    for k in k_values:\n",
        "        knn = KNeighborsClassifier(n_neighbors = k)\n",
        "        predictions = []\n",
        "\n",
        "        print(f\"Entering loop for {k}\")\n",
        "        # LOO CV\n",
        "        for train_index, test_index in loo.split(x_data):\n",
        "            # Get data and train model\n",
        "            x_train, x_test = x_data[train_index], x_data[test_index]\n",
        "            y_train, y_test = y_data[train_index], y_data[test_index]\n",
        "            knn.fit(x_train, y_train)\n",
        "\n",
        "            # Predict and update auxiliary variables accordingly\n",
        "            prediction = knn.predict(x_test)\n",
        "            predictions.append(prediction[0])\n",
        "        # Calculate accuracy for this k\n",
        "        accuracy = accuracy_score(y_data, predictions)\n",
        "        accuracies[k] = accuracy\n",
        "        print(f\"Accuracy for k={k}: {accuracies[k]:.6f}\")\n",
        "\n",
        "    return accuracies"
      ]
    },
    {
      "cell_type": "markdown",
      "metadata": {
        "id": "VpEmoSZe2uC1"
      },
      "source": [
        "## Step 4 - Determine the Optimal k\n",
        "- Calculate the accuracy for each value of k.\n",
        "- Determine the value of k with the highest accuracy."
      ]
    },
    {
      "cell_type": "code",
      "execution_count": null,
      "metadata": {
        "colab": {
          "background_save": true,
          "base_uri": "https://localhost:8080/"
        },
        "id": "u9iurzSM21Zd",
        "outputId": "d3d0ffba-0300-4bfd-88e7-44f1fc695b85"
      },
      "outputs": [
        {
          "name": "stdout",
          "output_type": "stream",
          "text": [
            "Entering loop for 1\n",
            "Accuracy for k=1: 0.943167\n",
            "Entering loop for 2\n",
            "Accuracy for k=2: 0.929500\n",
            "Entering loop for 3\n",
            "Accuracy for k=3: 0.942000\n",
            "Entering loop for 4\n",
            "Accuracy for k=4: 0.939000\n",
            "Entering loop for 5\n",
            "Accuracy for k=5: 0.940000\n",
            "Entering loop for 6\n",
            "Accuracy for k=6: 0.936667\n",
            "Entering loop for 7\n",
            "Accuracy for k=7: 0.938667\n",
            "Entering loop for 8\n",
            "Accuracy for k=8: 0.936500\n",
            "Entering loop for 9\n",
            "Accuracy for k=9: 0.935833\n",
            "Entering loop for 10\n",
            "Accuracy for k=10: 0.932500\n",
            "Optimal k: 1\n"
          ]
        }
      ],
      "source": [
        "# Calculate\n",
        "k_values = range(1, 11)\n",
        "x_data = x_train_10.reshape(6000, -1)\n",
        "accuracies = leave_one_out_cv(x_data, y_train_10, k_values)\n",
        "\n",
        "# Determine optimal value\n",
        "optimal_k = k_values[np.argmax(list(accuracies.values()))]\n",
        "print(f'Optimal k: {optimal_k}')"
      ]
    },
    {
      "cell_type": "markdown",
      "source": [
        "## Step 5 - Plot\n",
        "- Plot the accuracy for each value of k based on the LOO CV results"
      ],
      "metadata": {
        "id": "pvy84Lm1Fz1h"
      }
    },
    {
      "cell_type": "code",
      "source": [
        "import matplotlib.pyplot as plt\n",
        "plt.figure(figsize=(10,6))\n",
        "plt.plot(k_values, list(accuracies.values()), marker='o', color='b')\n",
        "plt.title(\"Accuracy and number of neighbors\")\n",
        "plt.xlabel(\"Number of neighbors (k)\")\n",
        "plt.ylabel(\"Accuracy\")\n",
        "plt.xticks(k_values)\n",
        "plt.grid()\n",
        "plt.ylim(0, 1)\n",
        "plt.legend()\n",
        "plt.show()"
      ],
      "metadata": {
        "colab": {
          "base_uri": "https://localhost:8080/",
          "height": 594
        },
        "id": "29A79XtGF6rb",
        "outputId": "3a3a9fd3-7a40-43c7-808d-820552aec4ac"
      },
      "execution_count": 20,
      "outputs": [
        {
          "output_type": "stream",
          "name": "stderr",
          "text": [
            "WARNING:matplotlib.legend:No artists with labels found to put in legend.  Note that artists whose label start with an underscore are ignored when legend() is called with no argument.\n"
          ]
        },
        {
          "output_type": "display_data",
          "data": {
            "text/plain": [
              "<Figure size 1000x600 with 1 Axes>"
            ],
            "image/png": "[encoded data removed]"
          },
          "metadata": {}
        }
      ]
    }
  ],
  "metadata": {
    "colab": {
      "provenance": [],
      "authorship_tag": "ABX9TyOZcGyVIf7aw9te1/KwmsWq",
      "include_colab_link": true
    },
    "kernelspec": {
      "display_name": "Python 3",
      "name": "python3"
    },
    "language_info": {
      "name": "python"
    }
  },
  "nbformat": 4,
  "nbformat_minor": 0
}